{
 "cells": [
  {
   "cell_type": "code",
   "execution_count": 1,
   "id": "83ea3928",
   "metadata": {},
   "outputs": [],
   "source": [
    "import cv2\n",
    "\n",
    "#read rock image\n",
    "rock = cv2.imread('rock.jpeg')\n",
    "\n",
    "#display rock image\n",
    "cv2.imshow(\"rock\",rock)\n",
    "cv2.waitKey(0)\n",
    "cv2.destroyAllWindows()"
   ]
  },
  {
   "cell_type": "code",
   "execution_count": null,
   "id": "ca2ca140",
   "metadata": {},
   "outputs": [],
   "source": []
  },
  {
   "cell_type": "code",
   "execution_count": null,
   "id": "1a0755c9",
   "metadata": {},
   "outputs": [],
   "source": []
  },
  {
   "cell_type": "code",
   "execution_count": 2,
   "id": "72898b2e",
   "metadata": {},
   "outputs": [],
   "source": [
    "\n",
    "#crop rock face\n",
    "rockface = rock[0:100,0:400,0:900,]\n",
    "\n",
    "#display rockface\n",
    "cv2.imshow(\"rock\",rockface)\n",
    "cv2.waitKey()\n",
    "cv2.destroyAllWindows()"
   ]
  },
  {
   "cell_type": "code",
   "execution_count": null,
   "id": "0c3f0f40",
   "metadata": {},
   "outputs": [],
   "source": []
  },
  {
   "cell_type": "code",
   "execution_count": null,
   "id": "0ec33024",
   "metadata": {},
   "outputs": [],
   "source": []
  },
  {
   "cell_type": "code",
   "execution_count": null,
   "id": "20e7b6f4",
   "metadata": {},
   "outputs": [],
   "source": []
  },
  {
   "cell_type": "code",
   "execution_count": 3,
   "id": "9f9ba43f",
   "metadata": {},
   "outputs": [],
   "source": [
    "import cv2\n",
    "\n",
    "#read Vin Diesel image\n",
    "image = cv2.imread('Vin Diesel.webp')\n",
    "\n",
    "#display Vin Diesel image\n",
    "cv2.imshow(\"Vin Diesel\",image)\n",
    "cv2.waitKey(0)\n",
    "cv2.destroyAllWindows()"
   ]
  },
  {
   "cell_type": "code",
   "execution_count": null,
   "id": "86ec5fe4",
   "metadata": {},
   "outputs": [],
   "source": []
  },
  {
   "cell_type": "code",
   "execution_count": null,
   "id": "bcc3bfe9",
   "metadata": {},
   "outputs": [],
   "source": []
  },
  {
   "cell_type": "code",
   "execution_count": 4,
   "id": "92b822d1",
   "metadata": {},
   "outputs": [],
   "source": [
    "#crop Vin Diesel face\n",
    "VinDieselface = image[0:100,0:400,0:1000]\n",
    "\n",
    "#display Vin Diesel face\n",
    "cv2.imshow(\"image\",VinDieselface)\n",
    "cv2.waitKey()\n",
    "cv2.destroyAllWindows()"
   ]
  },
  {
   "cell_type": "code",
   "execution_count": null,
   "id": "3393fbaa",
   "metadata": {},
   "outputs": [],
   "source": []
  },
  {
   "cell_type": "code",
   "execution_count": null,
   "id": "2de1a81a",
   "metadata": {},
   "outputs": [],
   "source": []
  },
  {
   "cell_type": "code",
   "execution_count": 5,
   "id": "664588f1",
   "metadata": {},
   "outputs": [
    {
     "data": {
      "text/plain": [
       "(100, 400, 3)"
      ]
     },
     "execution_count": 5,
     "metadata": {},
     "output_type": "execute_result"
    }
   ],
   "source": [
    "rockface.shape"
   ]
  },
  {
   "cell_type": "code",
   "execution_count": 6,
   "id": "d21e6458",
   "metadata": {},
   "outputs": [
    {
     "data": {
      "text/plain": [
       "(100, 400, 3)"
      ]
     },
     "execution_count": 6,
     "metadata": {},
     "output_type": "execute_result"
    }
   ],
   "source": [
    "VinDieselface.shape"
   ]
  },
  {
   "cell_type": "code",
   "execution_count": null,
   "id": "0458898c",
   "metadata": {},
   "outputs": [],
   "source": []
  },
  {
   "cell_type": "code",
   "execution_count": 7,
   "id": "1c61b19d",
   "metadata": {},
   "outputs": [],
   "source": [
    "#swap the face of rock \n",
    "rock = cv2.imread('rock.jpeg')\n",
    "rock[0:100,0:400,0:1000] = VinDieselface\n",
    "\n",
    "#display swapped image \n",
    "cv2.imshow(\"rock\",rock)\n",
    "cv2.waitKey()\n",
    "cv2.destroyAllWindows()"
   ]
  },
  {
   "cell_type": "code",
   "execution_count": null,
   "id": "f3a36e11",
   "metadata": {},
   "outputs": [],
   "source": []
  },
  {
   "cell_type": "code",
   "execution_count": 8,
   "id": "29154aff",
   "metadata": {},
   "outputs": [],
   "source": [
    "#swap the face of rock \n",
    "image = cv2.imread('Vin Diesel.webp')\n",
    "image[0:100,0:400,0:900,] = rockface\n",
    "\n",
    "#display swapped image \n",
    "cv2.imshow(\"Vin Diesel\",image)\n",
    "cv2.waitKey()\n",
    "cv2.destroyAllWindows()"
   ]
  },
  {
   "cell_type": "code",
   "execution_count": null,
   "id": "a706717b",
   "metadata": {},
   "outputs": [],
   "source": []
  },
  {
   "cell_type": "code",
   "execution_count": null,
   "id": "2d83cb36",
   "metadata": {},
   "outputs": [],
   "source": []
  }
 ],
 "metadata": {
  "kernelspec": {
   "display_name": "Python 3",
   "language": "python",
   "name": "python3"
  },
  "language_info": {
   "codemirror_mode": {
    "name": "ipython",
    "version": 3
   },
   "file_extension": ".py",
   "mimetype": "text/x-python",
   "name": "python",
   "nbconvert_exporter": "python",
   "pygments_lexer": "ipython3",
   "version": "3.8.8"
  }
 },
 "nbformat": 4,
 "nbformat_minor": 5
}
